{
 "cells": [
  {
   "cell_type": "markdown",
   "id": "b64accae",
   "metadata": {},
   "source": [
    "## Hungarian 1-to-Many"
   ]
  },
  {
   "cell_type": "code",
   "execution_count": 1,
   "id": "6a28e633",
   "metadata": {},
   "outputs": [],
   "source": [
    "import numpy as np\n",
    "import pandas as pd\n",
    "from scipy.optimize import linear_sum_assignment\n",
    "import networkx as nx"
   ]
  },
  {
   "cell_type": "code",
   "execution_count": 2,
   "id": "a89704c9",
   "metadata": {},
   "outputs": [],
   "source": [
    "# -----------------------------\n",
    "# Hungarian 1-to-1 Matching\n",
    "# -----------------------------\n",
    "def att_hungarian_1to1(X, T, Y):\n",
    "    treated_idx = np.where(T == 1)[0]\n",
    "    control_idx = np.where(T == 0)[0]\n",
    "    cost = np.linalg.norm(X[treated_idx][:, None] - X[control_idx][None, :], axis=2)\n",
    "    row, col = linear_sum_assignment(cost)\n",
    "    Y_treated = Y[treated_idx[row]]\n",
    "    Y_control = Y[control_idx[col]]\n",
    "    att = np.mean(Y_treated - Y_control)\n",
    "    match = {i: [j] for i, j in zip(row, col)}\n",
    "    return att, match, treated_idx, control_idx\n",
    "\n",
    "# -----------------------------\n",
    "# Hungarian 1-to-k Matching\n",
    "# -----------------------------\n",
    "def att_hungarian_1tok(X, T, Y, k=3):\n",
    "    treated_idx = np.where(T == 1)[0]\n",
    "    control_idx = np.where(T == 0)[0]\n",
    "    G = nx.DiGraph()\n",
    "    source, sink = \"s\", \"t\"\n",
    "\n",
    "    for i in range(len(treated_idx)):\n",
    "        G.add_edge(source, f\"T{i}\", capacity=k, weight=0)\n",
    "\n",
    "    for j in range(len(control_idx)):\n",
    "        G.add_edge(f\"C{j}\", sink, capacity=1, weight=0)\n",
    "\n",
    "    for i in range(len(treated_idx)):\n",
    "        for j in range(len(control_idx)):\n",
    "            dist = np.linalg.norm(X[treated_idx[i]] - X[control_idx[j]])\n",
    "            G.add_edge(f\"T{i}\", f\"C{j}\", capacity=1, weight=int(dist * 1e6))  # scaled to int\n",
    "\n",
    "    flow = nx.max_flow_min_cost(G, source, sink)\n",
    "\n",
    "    matches = {i: [] for i in range(len(treated_idx))}\n",
    "    for i in range(len(treated_idx)):\n",
    "        for j in range(len(control_idx)):\n",
    "            if flow[f\"T{i}\"].get(f\"C{j}\", 0) > 0:\n",
    "                matches[i].append(j)\n",
    "\n",
    "    att_list = []\n",
    "    for i, matched_js in matches.items():\n",
    "        if matched_js:\n",
    "            treated_y = Y[treated_idx[i]]\n",
    "            matched_y = Y[control_idx][matched_js].mean()\n",
    "            att_list.append(treated_y - matched_y)\n",
    "    att = np.mean(att_list)\n",
    "    return att, matches, treated_idx, control_idx"
   ]
  },
  {
   "cell_type": "code",
   "execution_count": 3,
   "id": "b40efa14",
   "metadata": {},
   "outputs": [],
   "source": [
    "# -----------------------------\n",
    "# Data Generator\n",
    "# -----------------------------\n",
    "def generate_data(n_treated=100, n_control=300, p=5, tau=2.0, hetero=False, seed=42):\n",
    "    np.random.seed(seed)\n",
    "    X = np.random.normal(0, 1, size=(n_treated + n_control, p))\n",
    "    T = np.zeros(n_treated + n_control)\n",
    "    T[:n_treated] = 1\n",
    "    Y0 = X @ np.random.normal(0.5, 0.1, p) + np.random.normal(0, 1, X.shape[0])\n",
    "    tau_x = tau * X[:, 0] if hetero else np.full(X.shape[0], tau)\n",
    "    Y1 = Y0 + tau_x\n",
    "    Y = T * Y1 + (1 - T) * Y0\n",
    "    return X, T, Y, tau_x\n",
    "\n",
    "# -----------------------------\n",
    "# Covariate Balance Calculator\n",
    "# -----------------------------\n",
    "def covariate_balance(X, matches, treated_idx, control_idx):\n",
    "    diffs = []\n",
    "    for i, js in matches.items():\n",
    "        if js:\n",
    "            treated_x = X[treated_idx[i]]\n",
    "            control_x = X[control_idx][js].mean(axis=0)\n",
    "            diffs.append(treated_x - control_x)\n",
    "    return np.abs(np.array(diffs)).mean(axis=0)"
   ]
  },
  {
   "cell_type": "code",
   "execution_count": 4,
   "id": "c29dc146",
   "metadata": {},
   "outputs": [
    {
     "name": "stdout",
     "output_type": "stream",
     "text": [
      "True ATT:           2.0000\n",
      "Hungarian 1-to-1:   1.7935 | Mean cov. diff: 0.3461\n",
      "Hungarian 1-to-3:   1.8459 | Mean cov. diff: 0.3122\n"
     ]
    }
   ],
   "source": [
    "# -----------------------------\n",
    "# Main Script\n",
    "# -----------------------------\n",
    "if __name__ == \"__main__\":\n",
    "    X, T, Y, tau_x = generate_data()\n",
    "    att_true = np.mean(tau_x[T == 1])\n",
    "\n",
    "    att1, match1, t_idx1, c_idx1 = att_hungarian_1to1(X, T, Y)\n",
    "    bal1 = covariate_balance(X, match1, t_idx1, c_idx1)\n",
    "\n",
    "    attk, matchk, t_idxk, c_idxk = att_hungarian_1tok(X, T, Y, k=3)\n",
    "    balk = covariate_balance(X, matchk, t_idxk, c_idxk)\n",
    "\n",
    "    print(f\"True ATT:           {att_true:.4f}\")\n",
    "    print(f\"Hungarian 1-to-1:   {att1:.4f} | Mean cov. diff: {bal1.mean():.4f}\")\n",
    "    print(f\"Hungarian 1-to-3:   {attk:.4f} | Mean cov. diff: {balk.mean():.4f}\")"
   ]
  },
  {
   "cell_type": "code",
   "execution_count": null,
   "id": "85960845",
   "metadata": {},
   "outputs": [],
   "source": []
  }
 ],
 "metadata": {
  "kernelspec": {
   "display_name": "Python 3.11 (Data Science)",
   "language": "python",
   "name": "py311ds"
  },
  "language_info": {
   "codemirror_mode": {
    "name": "ipython",
    "version": 3
   },
   "file_extension": ".py",
   "mimetype": "text/x-python",
   "name": "python",
   "nbconvert_exporter": "python",
   "pygments_lexer": "ipython3",
   "version": "3.11.11"
  }
 },
 "nbformat": 4,
 "nbformat_minor": 5
}
